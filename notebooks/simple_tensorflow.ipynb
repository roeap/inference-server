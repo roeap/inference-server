{
 "cells": [
  {
   "cell_type": "code",
   "execution_count": null,
   "metadata": {},
   "outputs": [],
   "source": [
    "import numpy as np\n",
    "import tensorflow as tf\n",
    "from tensorflow.keras.models import Sequential\n",
    "from tensorflow.keras.layers import Dense, Activation\n",
    "import onnxmltools\n",
    "import onnx\n",
    "from onnxsim import simplify"
   ]
  },
  {
   "cell_type": "code",
   "execution_count": null,
   "metadata": {},
   "outputs": [],
   "source": [
    "model = Sequential(\n",
    "    [\n",
    "        Dense(32, activation=\"relu\", input_dim=100, name=\"main_input\"),\n",
    "        Dense(1, activation=\"sigmoid\", name=\"dense_1\"),\n",
    "    ]\n",
    ")\n",
    "\n",
    "\n",
    "model.compile(optimizer=\"rmsprop\", loss=\"binary_crossentropy\", metrics=[\"accuracy\"])\n",
    "\n",
    "data = np.random.random((1000, 100))\n",
    "labels = np.random.randint(2, size=(1000, 1))\n",
    "\n",
    "# Train the model, iterating on the data in batches of 32 samples\n",
    "model.fit(data, labels, epochs=10, batch_size=32)\n",
    "\n",
    "# convert model to onnx\n",
    "onnx_model = onnxmltools.convert_keras(model)\n",
    "\n",
    "# convert model\n",
    "model_simp, check = simplify(onnx_model)\n",
    "\n",
    "assert check, \"Simplified ONNX model could not be validated\"\n",
    "\n",
    "onnxmltools.utils.save_model(model_simp, \"example.onnx\")"
   ]
  }
 ],
 "metadata": {
  "kernelspec": {
   "display_name": ".venv",
   "language": "python",
   "name": "python3"
  },
  "language_info": {
   "codemirror_mode": {
    "name": "ipython",
    "version": 3
   },
   "file_extension": ".py",
   "mimetype": "text/x-python",
   "name": "python",
   "nbconvert_exporter": "python",
   "pygments_lexer": "ipython3",
   "version": "3.10.2"
  },
  "orig_nbformat": 4,
  "vscode": {
   "interpreter": {
    "hash": "b1ec198ad1b84fee504038a4c0a071e6af4eaf96d509e94d2d450f6a22d1129e"
   }
  }
 },
 "nbformat": 4,
 "nbformat_minor": 2
}
