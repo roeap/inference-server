{
 "cells": [
  {
   "cell_type": "code",
   "execution_count": null,
   "metadata": {},
   "outputs": [],
   "source": [
    "from inference_client.aio.model import AsyncModelClient\n",
    "from inference_client.aio.services import AsyncInferenceClient\n",
    "\n",
    "client = AsyncInferenceClient(port=50051, use_ssl=False)\n",
    "model = AsyncModelClient(client=client, name=\"lightgbm\")\n",
    "\n",
    "await model.predict()"
   ]
  }
 ],
 "metadata": {
  "kernelspec": {
   "display_name": ".venv",
   "language": "python",
   "name": "python3"
  },
  "language_info": {
   "codemirror_mode": {
    "name": "ipython",
    "version": 3
   },
   "file_extension": ".py",
   "mimetype": "text/x-python",
   "name": "python",
   "nbconvert_exporter": "python",
   "pygments_lexer": "ipython3",
   "version": "3.10.6"
  },
  "orig_nbformat": 4,
  "vscode": {
   "interpreter": {
    "hash": "b0d7c77bda4ced2e589f40f07fd116be2c80ee18fc24bdef8f68b9f47d913493"
   }
  }
 },
 "nbformat": 4,
 "nbformat_minor": 2
}
